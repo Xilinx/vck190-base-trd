{
 "cells": [
  {
   "cell_type": "markdown",
   "metadata": {},
   "source": [
    "![Xilinx Logo](images/xilinx_logo.png \"Xilinx Logo\")"
   ]
  },
  {
   "cell_type": "markdown",
   "metadata": {},
   "source": [
    "# 1. Introduction"
   ]
  },
  {
   "cell_type": "markdown",
   "metadata": {},
   "source": [
    "This notebook demonstrates how to use the APM library for performance monitoring of read and write throughput in the MIPI, accelerator and HDMI pipelines.\n",
    "\n",
    "The APM library configures and reads out the AXI performance monitors (APM) that are added into the PL design. The following is a list of monitoring slots and configured metrics:\n",
    "* HDMI overlay planes 0 to 3 read throughput\n",
    "* HDMI overlay planes 4 to 7 read throughput\n",
    "* Accelerator write throughput\n",
    "* Accelerator read throughput\n",
    "* MIPI write throughput\n",
    "\n",
    "In this notebook, you will:\n",
    "1. Create a list of desired APM metrics to be recorded\n",
    "2. Plot the data in a real-time graph"
   ]
  },
  {
   "cell_type": "markdown",
   "metadata": {},
   "source": [
    "# 2. Imports and Initialization"
   ]
  },
  {
   "cell_type": "markdown",
   "metadata": {},
   "source": [
    "Import all python modules required for this notebook. The ``libxperfmon`` module provides the APM monitoring functionality."
   ]
  },
  {
   "cell_type": "code",
   "execution_count": 1,
   "metadata": {},
   "outputs": [],
   "source": [
    "from IPython.display import clear_output\n",
    "import libxperfmon\n",
    "from matplotlib import pyplot as plt\n",
    "import numpy as np\n",
    "import time\n",
    "import os\n",
    "\n",
    "%matplotlib inline"
   ]
  },
  {
   "cell_type": "markdown",
   "metadata": {},
   "source": [
    "# 3. Create and Configure the APMs with their Metrics"
   ]
  },
  {
   "cell_type": "markdown",
   "metadata": {},
   "source": [
    "Define a helper function that determines the platform being used."
   ]
  },
  {
   "cell_type": "code",
   "execution_count": 2,
   "metadata": {},
   "outputs": [],
   "source": [
    "def get_pfm_name():\n",
    "    pfms = {\n",
    "        'vcap_csi'  : 'preset_pfm1',\n",
    "        'vcap_gmsl' : 'preset_pfm2',\n",
    "        'vcap_hdmi' : 'preset_pfm3'\n",
    "    }\n",
    "    for p in pfms:\n",
    "        if os.path.exists(\"/sys/firmware/devicetree/base/amba_pl@0/\" + p) == True:\n",
    "            return pfms[p]"
   ]
  },
  {
   "cell_type": "markdown",
   "metadata": {},
   "source": [
    "Create a list consisting of the APM metrics you want to measure and create the APM object. The APM configuration is platform specific and set via attribute name inside the ``libxperfmon`` library e.g. ``libxperfmon.preset_pfm1`` for platform1."
   ]
  },
  {
   "cell_type": "code",
   "execution_count": 3,
   "metadata": {},
   "outputs": [],
   "source": [
    "APM_LIST = libxperfmon.APM(getattr(libxperfmon,get_pfm_name()))"
   ]
  },
  {
   "cell_type": "markdown",
   "metadata": {},
   "source": [
    "# 4. Read and Plot the Memory Throughput Values in Real-Time"
   ]
  },
  {
   "cell_type": "markdown",
   "metadata": {},
   "source": [
    "Create a function ``autolabel`` that prints the current values inside the bar graph.\n",
    "\n",
    "In an infinite loop, read the APM values using the APM object, configure various properties and plot the graph."
   ]
  },
  {
   "cell_type": "code",
   "execution_count": null,
   "metadata": {},
   "outputs": [
    {
     "data": {
      "image/png": "[encoded data removed]",
      "text/plain": [
       "<Figure size 864x432 with 1 Axes>"
      ]
     },
     "metadata": {},
     "output_type": "display_data"
    }
   ],
   "source": [
    "def autolabel(rects):\n",
    "    for rect in rects:\n",
    "        width = rect.get_width()\n",
    "        if width > 0:\n",
    "            ax.text(rect.get_x() + rect.get_width()/2, rect.get_y() + rect.get_height()/2.,\n",
    "                    '%.2f' % width, ha='left', va='center', color='white',size='20')\n",
    "\n",
    "while True:\n",
    "    clear_output(wait=True)\n",
    "    \n",
    "    # read APM values and add them to a list\n",
    "    # the values for HDMI overlay planes 0 to 3 and 4 to 7 are added\n",
    "    hdmi_o_rd = round(APM_LIST.port[0].getThroughput(libxperfmon.Gbps)\n",
    "                      + APM_LIST.port[1].getThroughput(libxperfmon.Gbps),2)\n",
    "    pl_accel_rd = round(APM_LIST.port[2].getThroughput(libxperfmon.Gbps),2)\n",
    "    pl_accel_wr = round(APM_LIST.port[3].getThroughput(libxperfmon.Gbps),2)\n",
    "    aie_accel_rd = round(APM_LIST.port[4].getThroughput(libxperfmon.Gbps),2)\n",
    "    aie_accel_wr = round(APM_LIST.port[5].getThroughput(libxperfmon.Gbps),2)\n",
    "    mipi_wr = round(APM_LIST.port[6].getThroughput(libxperfmon.Gbps),2)\n",
    "    read = [\n",
    "        hdmi_o_rd,  \n",
    "        pl_accel_rd, \n",
    "        pl_accel_wr, \n",
    "        aie_accel_rd, \n",
    "        aie_accel_wr, \n",
    "        mipi_wr\n",
    "           ]\n",
    "\n",
    "    # create matching list of labels\n",
    "\n",
    "    labels = [\n",
    "        'HDMI Output Rd',\n",
    "        'PL Accel Rd',\n",
    "        'PL Accel Wr',\n",
    "        'AIE Accel Rd',\n",
    "        'AIE Accel Wr',\n",
    "        'MIPI / HDMI Wr'\n",
    "    ]\n",
    "    fig, ax = plt.subplots()\n",
    "    fig.set_facecolor('#111111') # match color of jupyterlab theme\n",
    "    fig.set_size_inches(12, 6)\n",
    "\n",
    "    x = np.arange(0, 1.5, 0.25)  # the label locations\n",
    "    width = 0.2  # the width of the bars\n",
    "    colors = ['g' for i in range(len(labels))]\n",
    "    rects1 = ax.barh(x, read, width, color=colors) # plot bars\n",
    "    autolabel(rects1) # print values inside bars\n",
    "\n",
    "    ax.set_title('Memory Throughput (Gbps)', color='white', size='30')\n",
    "    ax.set_facecolor('#111111') # match color of jupyterlab theme    \n",
    "    ax.set_yticks(x)\n",
    "    ax.set_yticklabels(labels, color='white', size='20') # print labels\n",
    "\n",
    "    plt.tight_layout()\n",
    "    plt.xlim([0, 16])\n",
    "    plt.show()"
   ]
  },
  {
   "cell_type": "markdown",
   "metadata": {},
   "source": [
    "# 5. Summary"
   ]
  },
  {
   "cell_type": "markdown",
   "metadata": {},
   "source": [
    "In this notebook you learned how to:\n",
    "1. Import and use the APM Library\n",
    "2. Display specific metrics on a live plot"
   ]
  },
  {
   "cell_type": "markdown",
   "metadata": {},
   "source": [
    "<center>Copyright© 2019 Xilinx</center>"
   ]
  }
 ],
 "metadata": {
  "kernelspec": {
   "display_name": "Python 3",
   "language": "python",
   "name": "python3"
  },
  "language_info": {
   "codemirror_mode": {
    "name": "ipython",
    "version": 3
   },
   "file_extension": ".py",
   "mimetype": "text/x-python",
   "name": "python",
   "nbconvert_exporter": "python",
   "pygments_lexer": "ipython3",
   "version": "3.8.5"
  }
 },
 "nbformat": 4,
 "nbformat_minor": 4
}
