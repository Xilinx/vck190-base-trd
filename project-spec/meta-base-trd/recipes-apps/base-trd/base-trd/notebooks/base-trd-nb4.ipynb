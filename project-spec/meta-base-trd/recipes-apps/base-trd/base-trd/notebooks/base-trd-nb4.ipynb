{
 "cells": [
  {
   "cell_type": "markdown",
   "metadata": {},
   "source": [
    " Set debug dot directory env variable."
   ]
  },
  {
   "cell_type": "code",
   "execution_count": null,
   "metadata": {},
   "outputs": [],
   "source": [
    "nb = \"nb4\"\n",
    "dotdir = \"/home/root/gst-dot/\" + nb\n",
    "\n",
    "# create directory for dot files\n",
    "!mkdir -p $dotdir\n",
    "%env GST_DEBUG_DUMP_DOT_DIR = $dotdir"
   ]
  },
  {
   "cell_type": "markdown",
   "metadata": {},
   "source": [
    "This step imports required python packages for this demo and initializes the GStreamer library."
   ]
  },
  {
   "cell_type": "code",
   "execution_count": null,
   "metadata": {},
   "outputs": [],
   "source": [
    "from IPython.display import Image, display, clear_output\n",
    "import sys\n",
    "import gi\n",
    "gi.require_version('Gst', '1.0')\n",
    "gi.require_version(\"GstApp\", \"1.0\")\n",
    "from gi.repository import GObject, GLib, Gst, GstApp\n",
    "\n",
    "Gst.init(None);"
   ]
  },
  {
   "cell_type": "markdown",
   "metadata": {},
   "source": [
    "Enable debug and set debug level."
   ]
  },
  {
   "cell_type": "code",
   "execution_count": null,
   "metadata": {},
   "outputs": [],
   "source": [
    "Gst.debug_set_active(False)\n",
    "Gst.debug_set_default_threshold(3)"
   ]
  },
  {
   "cell_type": "markdown",
   "metadata": {},
   "source": [
    "First pipeline"
   ]
  },
  {
   "cell_type": "code",
   "execution_count": null,
   "metadata": {},
   "outputs": [],
   "source": [
    "# v4l2src element\n",
    "io_mode = \"mmap\"\n",
    "device = \"/dev/video0\"\n",
    "src_1 = \"v4l2src device=\" + device + \" io-mode=\" + io_mode\n",
    "\n",
    "# caps filter element\n",
    "width = 1280\n",
    "height = 720\n",
    "fmt = \"YUY2\"\n",
    "caps = \"video/x-raw, width=\" + str(width) + \", height=\" + str(height) + \", format=\" + fmt \n",
    "\n",
    "# kmssink element (first plane)\n",
    "driver_name = \"xlnx\"\n",
    "plane_id_1 = 34\n",
    "xoff_1 = 0\n",
    "yoff_1 = 0\n",
    "render_rectangle_1 = \"<\" + str(xoff_1) + \",\" + str(yoff_1) + \",\" + str(width) + \",\" + str(height) + \">\"\n",
    "sink_1 = \"kmssink\" + \" driver-name=\" + driver_name + \" plane-id=\" + str(plane_id_1) + \" render-rectangle=\" + render_rectangle_1\n",
    "\n",
    "# first pipeline\n",
    "pipe_1 = src_1 + \" ! \" + caps + \" ! \" + sink_1"
   ]
  },
  {
   "cell_type": "markdown",
   "metadata": {},
   "source": [
    "Second pipeline."
   ]
  },
  {
   "cell_type": "code",
   "execution_count": null,
   "metadata": {},
   "outputs": [],
   "source": [
    "# mulitfilesrc element\n",
    "file_name = \"/usr/share/movies/Big_Buck_Bunny_4K.webm.360p.vp9.webm\"\n",
    "loop = True\n",
    "src_2 = \"multifilesrc location=\" + file_name + \" loop=\" + str(loop)\n",
    "\n",
    "# decode bin element\n",
    "dec = \"decodebin\"\n",
    "\n",
    "# videoconvert element\n",
    "cvt = \"videoconvert\"\n",
    "\n",
    "# kmssink element (second plane)\n",
    "driver_name = \"xlnx\"\n",
    "plane_id_2 = 35\n",
    "xoff_2 = 0\n",
    "yoff_2 = 720\n",
    "width_2 = 640\n",
    "height_2 = 360\n",
    "render_rectangle_2 = \"<\" + str(xoff_2) + \",\" + str(yoff_2) + \",\" + str(width_2) + \",\" + str(height_2) + \">\"\n",
    "sink_2 = \"kmssink\" + \" driver-name=\" + driver_name + \" plane-id=\" + str(plane_id_2) + \" render-rectangle=\" + render_rectangle_2\n",
    "\n",
    "# second pipeline\n",
    "pipe_2 = src_2 + \" ! \" + dec + \" ! \" + cvt + \" ! \"+ sink_2"
   ]
  },
  {
   "cell_type": "markdown",
   "metadata": {},
   "source": [
    "Parse first and second pipeline as single graph."
   ]
  },
  {
   "cell_type": "code",
   "execution_count": null,
   "metadata": {},
   "outputs": [],
   "source": [
    "pipeline = Gst.parse_launch(pipe_1 + \" \" + pipe_2)"
   ]
  },
  {
   "cell_type": "markdown",
   "metadata": {},
   "source": [
    "This bus_call function listens on the bus for EOS and Error events."
   ]
  },
  {
   "cell_type": "code",
   "execution_count": null,
   "metadata": {},
   "outputs": [],
   "source": [
    "def bus_call(bus, message, loop):\n",
    "    t = message.type\n",
    "    if t == Gst.MessageType.EOS:\n",
    "        sys.stdout.write(\"End-of-stream\\n\")\n",
    "        pipeline.set_state(Gst.State.NULL)\n",
    "        loop.quit()\n",
    "    elif t == Gst.MessageType.ERROR:\n",
    "        err, debug = message.parse_error()\n",
    "        sys.stderr.write(\"Error: %s: %s\\n\" % (err, debug))\n",
    "        pipeline.set_state(Gst.State.NULL)\n",
    "        loop.quit()\n",
    "    return True"
   ]
  },
  {
   "cell_type": "markdown",
   "metadata": {},
   "source": [
    "Start the pipeline. Create main loop and listen to bus messages. Display the video frames in the notebook.\n",
    "\n",
    "To stop the pipeline, click the square shaped 'interrupt kerenl' icon in the top menu bar. Creates a dot graph before stopping the pipeline."
   ]
  },
  {
   "cell_type": "code",
   "execution_count": null,
   "metadata": {},
   "outputs": [],
   "source": [
    "pipeline.set_state(Gst.State.PLAYING);\n",
    "\n",
    "loop = GLib.MainLoop()\n",
    "bus = pipeline.get_bus()\n",
    "bus.add_signal_watch()\n",
    "bus.connect(\"message\", bus_call, loop)\n",
    "try:\n",
    "    loop.run()\n",
    "except:\n",
    "    sys.stdout.write(\"Interrupt caught\\n\")\n",
    "    Gst.debug_bin_to_dot_file(pipeline, Gst.DebugGraphDetails.ALL, nb)\n",
    "    pipeline.set_state(Gst.State.NULL)\n",
    "    loop.quit()\n",
    "    pass"
   ]
  },
  {
   "cell_type": "markdown",
   "metadata": {},
   "source": [
    "Show pipeline graph. This step may take a few seconds. Double click on the generate image file that shows the graph to zoom in."
   ]
  },
  {
   "cell_type": "code",
   "execution_count": null,
   "metadata": {},
   "outputs": [],
   "source": [
    "import pydot\n",
    "\n",
    "# register dot plugins for png export to work\n",
    "!dot -c\n",
    "\n",
    "# convert dot file to png and display\n",
    "dotfile = dotdir + \"/\" + nb + \".dot\"\n",
    "graph = pydot.graph_from_dot_file(dotfile, 'utf-8')\n",
    "display(Image(graph[0].create(None, 'png', 'utf-8')))"
   ]
  },
  {
   "cell_type": "markdown",
   "metadata": {},
   "source": [
    "The end."
   ]
  }
 ],
 "metadata": {
  "kernelspec": {
   "display_name": "Python 3",
   "language": "python",
   "name": "python3"
  },
  "language_info": {
   "codemirror_mode": {
    "name": "ipython",
    "version": 3
   },
   "file_extension": ".py",
   "mimetype": "text/x-python",
   "name": "python",
   "nbconvert_exporter": "python",
   "pygments_lexer": "ipython3",
   "version": "3.5.6"
  }
 },
 "nbformat": 4,
 "nbformat_minor": 2
}
