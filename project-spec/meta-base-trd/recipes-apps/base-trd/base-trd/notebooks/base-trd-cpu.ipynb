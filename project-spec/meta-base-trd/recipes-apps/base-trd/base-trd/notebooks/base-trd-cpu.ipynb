{
 "cells": [
  {
   "cell_type": "markdown",
   "metadata": {},
   "source": [
    "![Xilinx Logo](images/xilinx_logo.png \"Xilinx Logo\")"
   ]
  },
  {
   "cell_type": "markdown",
   "metadata": {},
   "source": [
    "# 1. Introduction"
   ]
  },
  {
   "cell_type": "markdown",
   "metadata": {},
   "source": [
    "This notebook demonstrates how to use the psutil Library for CPU monitoring for each core\n",
    "\n",
    "In this notebook, you will:\n",
    "1. Plot the CPU utilization in a real-time graph"
   ]
  },
  {
   "cell_type": "markdown",
   "metadata": {},
   "source": [
    "# 2. Imports and Initialization"
   ]
  },
  {
   "cell_type": "markdown",
   "metadata": {},
   "source": [
    "Import all python modules required for this notebook. "
   ]
  },
  {
   "cell_type": "code",
   "execution_count": 1,
   "metadata": {},
   "outputs": [],
   "source": [
    "import time\n",
    "from IPython.display import clear_output\n",
    "from matplotlib import pyplot as plt\n",
    "import numpy as np\n",
    "%matplotlib inline\n",
    "import psutil"
   ]
  },
  {
   "cell_type": "markdown",
   "metadata": {},
   "source": [
    "# 2. Plot and Read the Throughput Values in Real-Time\n",
    "\n",
    "There are two cores in the Versal CPU. Therefore, use psutil.cpu_percent() to get a list of the percentage utilization numbers periodically"
   ]
  },
  {
   "cell_type": "code",
   "execution_count": null,
   "metadata": {},
   "outputs": [
    {
     "data": {
      "image/png": "[encoded data removed]",
      "text/plain": [
       "<Figure size 1152x216 with 1 Axes>"
      ]
     },
     "metadata": {},
     "output_type": "display_data"
    }
   ],
   "source": [
    "def autolabel(rects):\n",
    "    \"\"\"\n",
    "    Attach a text label above each bar displaying its height\n",
    "    \"\"\"\n",
    "    for rect in rects:\n",
    "        width = rect.get_width()\n",
    "        if width > 0:\n",
    "            ax.text(rect.get_x() + rect.get_width() / 2, rect.get_y() + rect.get_height()/2.,\n",
    "                    '%.2f' % width,\n",
    "                    ha='left', va='center', color='white',size='20')\n",
    "\n",
    "while True:\n",
    "    time.sleep(2)\n",
    "    clear_output(wait=True)\n",
    "    read = psutil.cpu_percent(percpu=True)\n",
    "    labels = [\"A-72 Core \"+str(i) for i in range(len(read))]\n",
    "    \n",
    "    \n",
    "    x = np.arange(0, 2, 1)  # the label locations\n",
    "    width = 0.5  # the width of the bars\n",
    "\n",
    "    fig, ax = plt.subplots()\n",
    "    ax.set_facecolor('#111111')\n",
    "    fig.set_facecolor('#111111')\n",
    "    colors=['g','g']\n",
    "    rects1 = ax.barh(x, read, width, color=colors)\n",
    "\n",
    "    # Add some text for labels, title and custom x-axis tick labels, etc.\n",
    "    ax.set_title('Versal CPU Utilization', color='white',size='20')\n",
    "    ax.set_yticks(x)\n",
    "    ax.set_yticklabels(labels,color='white',size='20')\n",
    "    autolabel(rects1)\n",
    "\n",
    "    fig.set_size_inches(16, 3)\n",
    "    plt.xlim([0, 100])\n",
    "    plt.tight_layout()\n",
    "    plt.show()"
   ]
  },
  {
   "cell_type": "markdown",
   "metadata": {},
   "source": [
    "# 3. Summary"
   ]
  },
  {
   "cell_type": "markdown",
   "metadata": {},
   "source": [
    "In this notebook you learned how to:\n",
    "1. Display CPU utilization metrics on a live plot\n",
    "\n",
    "**Note:** The CPU utilization varies significantly as plotting the graph consumes a lot of CPU bandwidth"
   ]
  },
  {
   "cell_type": "markdown",
   "metadata": {},
   "source": [
    "<center>Copyright© 2019 Xilinx</center>"
   ]
  }
 ],
 "metadata": {
  "kernelspec": {
   "display_name": "Python 3",
   "language": "python",
   "name": "python3"
  },
  "language_info": {
   "codemirror_mode": {
    "name": "ipython",
    "version": 3
   },
   "file_extension": ".py",
   "mimetype": "text/x-python",
   "name": "python",
   "nbconvert_exporter": "python",
   "pygments_lexer": "ipython3",
   "version": "3.7.6"
  }
 },
 "nbformat": 4,
 "nbformat_minor": 4
}
